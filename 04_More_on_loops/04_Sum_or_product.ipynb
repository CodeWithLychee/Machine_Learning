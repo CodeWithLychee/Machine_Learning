{
 "cells": [
  {
   "cell_type": "code",
   "execution_count": 4,
   "metadata": {},
   "outputs": [
    {
     "name": "stdout",
     "output_type": "stream",
     "text": [
      "Invalid choice\n"
     ]
    }
   ],
   "source": [
    "n = int(input(\"Enter the value of n : \"))\n",
    "c = int(input(\"Enter your choice 1/2 : \"))\n",
    "\n",
    "sum =0\n",
    "product=1\n",
    "\n",
    "if c ==1:\n",
    "    for i in range (1,n+1):\n",
    "        sum= sum +i\n",
    "    print(\"Sum is : \",sum)\n",
    "elif c==2:\n",
    "    for i in range (1,n+1):\n",
    "        product=product*i\n",
    "    print(\"Product is : \",product)\n",
    "else:\n",
    "    print(\"Invalid choice\")\n",
    "\n"
   ]
  }
 ],
 "metadata": {
  "kernelspec": {
   "display_name": "Python 3",
   "language": "python",
   "name": "python3"
  },
  "language_info": {
   "codemirror_mode": {
    "name": "ipython",
    "version": 3
   },
   "file_extension": ".py",
   "mimetype": "text/x-python",
   "name": "python",
   "nbconvert_exporter": "python",
   "pygments_lexer": "ipython3",
   "version": "3.12.3"
  }
 },
 "nbformat": 4,
 "nbformat_minor": 2
}
