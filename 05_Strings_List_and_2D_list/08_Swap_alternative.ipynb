{
 "cells": [
  {
   "cell_type": "code",
   "execution_count": 2,
   "metadata": {},
   "outputs": [
    {
     "name": "stdout",
     "output_type": "stream",
     "text": [
      "[9, 3, 6, 12, 4, 32, 5, 11, 19]\n",
      "[3, 9, 12, 6, 32, 4, 11, 5, 19]\n"
     ]
    }
   ],
   "source": [
    "list = [int(s) for s in input().split()]\n",
    "print(list)\n",
    "for i in range(0,len(list),2):\n",
    "    j = i+1\n",
    "    if j < len(list):\n",
    "        t= list[i]\n",
    "        list[i]=list[j]\n",
    "        list[j]=t\n",
    "print(list)"
   ]
  },
  {
   "cell_type": "code",
   "execution_count": null,
   "metadata": {},
   "outputs": [],
   "source": []
  }
 ],
 "metadata": {
  "kernelspec": {
   "display_name": "Python 3",
   "language": "python",
   "name": "python3"
  },
  "language_info": {
   "codemirror_mode": {
    "name": "ipython",
    "version": 3
   },
   "file_extension": ".py",
   "mimetype": "text/x-python",
   "name": "python",
   "nbconvert_exporter": "python",
   "pygments_lexer": "ipython3",
   "version": "3.12.3"
  }
 },
 "nbformat": 4,
 "nbformat_minor": 2
}
